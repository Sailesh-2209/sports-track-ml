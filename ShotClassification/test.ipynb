{
 "cells": [
  {
   "cell_type": "code",
   "execution_count": 2,
   "id": "dfd94144-0a65-4f13-9724-3aaf15efad62",
   "metadata": {},
   "outputs": [],
   "source": [
    "import os\n",
    "import sys\n",
    "import time\n",
    "import re\n",
    "import tqdm\n",
    "import glob\n",
    "\n",
    "import numpy as np\n",
    "import pandas as pd\n",
    "\n",
    "import tensorflow as tf\n",
    "import cv2\n",
    "from keras.models import Sequential\n",
    "from keras.layers import  Dense, Dropout"
   ]
  },
  {
   "cell_type": "code",
   "execution_count": 3,
   "id": "ff606ea9-c762-4c87-9f6f-7a86f12bc1c3",
   "metadata": {},
   "outputs": [],
   "source": [
    "image = cv2.imread(\"image.png\")"
   ]
  },
  {
   "cell_type": "code",
   "execution_count": 5,
   "id": "68825cc2-d136-4f35-9df5-a06cbf1917ee",
   "metadata": {},
   "outputs": [],
   "source": [
    "re_image = cv2.resize(image, (320, 180), interpolation=cv2.INTER_AREA)"
   ]
  },
  {
   "cell_type": "code",
   "execution_count": 6,
   "id": "23393f17-f148-4267-a401-6e5630b33ccd",
   "metadata": {},
   "outputs": [
    {
     "data": {
      "text/plain": [
       "True"
      ]
     },
     "execution_count": 6,
     "metadata": {},
     "output_type": "execute_result"
    }
   ],
   "source": [
    "cv2.imwrite(\"resized.png\", re_image)"
   ]
  },
  {
   "cell_type": "code",
   "execution_count": 7,
   "id": "a95c9068-c7da-4605-8875-f481b4d6ee5c",
   "metadata": {},
   "outputs": [
    {
     "data": {
      "text/plain": [
       "(180, 320, 3)"
      ]
     },
     "execution_count": 7,
     "metadata": {},
     "output_type": "execute_result"
    }
   ],
   "source": [
    "image = cv2.imread(\"resized.png\")\n",
    "image.shape"
   ]
  },
  {
   "cell_type": "code",
   "execution_count": 9,
   "id": "44750cea-80d5-4cb6-aebe-abeb26ce2c2b",
   "metadata": {},
   "outputs": [
    {
     "data": {
      "text/plain": [
       "(180, 320)"
      ]
     },
     "execution_count": 9,
     "metadata": {},
     "output_type": "execute_result"
    }
   ],
   "source": [
    "bw_image = cv2.cvtColor(image, cv2.COLOR_BGR2GRAY)\n",
    "bw_image.shape"
   ]
  },
  {
   "cell_type": "code",
   "execution_count": 11,
   "id": "41c66605-b49b-4253-adb4-17add6ac0940",
   "metadata": {},
   "outputs": [
    {
     "data": {
      "text/plain": [
       "True"
      ]
     },
     "execution_count": 11,
     "metadata": {},
     "output_type": "execute_result"
    }
   ],
   "source": [
    "cv2.imwrite(\"bw_image.png\", bw_image)"
   ]
  },
  {
   "cell_type": "code",
   "execution_count": 13,
   "id": "f0fd352a-8d33-45aa-8ed2-6d5386022729",
   "metadata": {},
   "outputs": [
    {
     "data": {
      "text/plain": [
       "array([[0.19607843, 0.19607843, 0.19215686, ..., 0.0627451 , 0.06666667,\n",
       "        0.06666667],\n",
       "       [0.20392157, 0.20392157, 0.2       , ..., 0.06666667, 0.07058824,\n",
       "        0.0745098 ],\n",
       "       [0.20784314, 0.20784314, 0.20784314, ..., 0.0745098 , 0.07843137,\n",
       "        0.08235294],\n",
       "       ...,\n",
       "       [0.08627451, 0.08627451, 0.08627451, ..., 0.1372549 , 0.1372549 ,\n",
       "        0.1372549 ],\n",
       "       [0.08627451, 0.08627451, 0.08627451, ..., 0.13333333, 0.13333333,\n",
       "        0.13333333],\n",
       "       [0.08627451, 0.08627451, 0.08627451, ..., 0.12941176, 0.12941176,\n",
       "        0.12941176]])"
      ]
     },
     "execution_count": 13,
     "metadata": {},
     "output_type": "execute_result"
    }
   ],
   "source": [
    "bw_image / 255.0"
   ]
  },
  {
   "cell_type": "code",
   "execution_count": null,
   "id": "3cb4b0bd-c1dc-4f75-9368-f752d54c0303",
   "metadata": {},
   "outputs": [],
   "source": []
  },
  {
   "cell_type": "code",
   "execution_count": null,
   "id": "e9f38817-dcd0-4b1f-8761-452f26f6328e",
   "metadata": {},
   "outputs": [],
   "source": []
  }
 ],
 "metadata": {
  "kernelspec": {
   "display_name": "Python 3 (ipykernel)",
   "language": "python",
   "name": "python3"
  },
  "language_info": {
   "codemirror_mode": {
    "name": "ipython",
    "version": 3
   },
   "file_extension": ".py",
   "mimetype": "text/x-python",
   "name": "python",
   "nbconvert_exporter": "python",
   "pygments_lexer": "ipython3",
   "version": "3.9.10"
  }
 },
 "nbformat": 4,
 "nbformat_minor": 5
}
